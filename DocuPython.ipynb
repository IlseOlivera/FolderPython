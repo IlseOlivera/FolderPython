{
  "nbformat": 4,
  "nbformat_minor": 0,
  "metadata": {
    "colab": {
      "provenance": [],
      "authorship_tag": "ABX9TyMMteglfok3WHs0SD7T7TNr",
      "include_colab_link": true
    },
    "kernelspec": {
      "name": "python3",
      "display_name": "Python 3"
    },
    "language_info": {
      "name": "python"
    }
  },
  "cells": [
    {
      "cell_type": "markdown",
      "metadata": {
        "id": "view-in-github",
        "colab_type": "text"
      },
      "source": [
        "<a href=\"https://colab.research.google.com/github/IlseOlivera/FolderPython/blob/main/DocuPython.ipynb\" target=\"_parent\"><img src=\"https://colab.research.google.com/assets/colab-badge.svg\" alt=\"Open In Colab\"/></a>"
      ]
    },
    {
      "cell_type": "code",
      "execution_count": null,
      "metadata": {
        "colab": {
          "base_uri": "https://localhost:8080/"
        },
        "id": "HNbadncLk0SJ",
        "outputId": "8a5fefe4-ae5a-4ba5-a444-4335bc27c18a"
      },
      "outputs": [
        {
          "output_type": "stream",
          "name": "stdout",
          "text": [
            "¡HoLA mundo desde Python!\n"
          ]
        }
      ],
      "source": [
        "print(\"¡Hola mundo desde Python!\")"
      ]
    },
    {
      "cell_type": "code",
      "source": [
        "nombre=input(\"Ingresa tu nombre: \")\n",
        "print(\"Bienvenido al curso \"+nombre)"
      ],
      "metadata": {
        "colab": {
          "base_uri": "https://localhost:8080/"
        },
        "id": "otp01AgQlz_l",
        "outputId": "846ab6e2-b96e-43ad-ec0f-3df8ca28bfd4"
      },
      "execution_count": null,
      "outputs": [
        {
          "output_type": "stream",
          "name": "stdout",
          "text": [
            "Ingresa tu nombre: ilse\n",
            "Bienvenido al curso ilse\n"
          ]
        }
      ]
    },
    {
      "cell_type": "markdown",
      "source": [],
      "metadata": {
        "id": "VPjkk0z2pY_L"
      }
    },
    {
      "cell_type": "code",
      "source": [
        "nombre=\"Ilse\"\n",
        "edad=22\n",
        "print(f\"Me llamo {nombre} y tengo {edad} años.\")"
      ],
      "metadata": {
        "colab": {
          "base_uri": "https://localhost:8080/"
        },
        "id": "HBLSajtNmUtE",
        "outputId": "f666e29f-938a-4bcb-9309-e5c5c1f14e1e"
      },
      "execution_count": null,
      "outputs": [
        {
          "output_type": "stream",
          "name": "stdout",
          "text": [
            "Me llamo Ilse y tengo 22 años.\n"
          ]
        }
      ]
    },
    {
      "cell_type": "code",
      "source": [
        "x=1\n",
        "print(x)"
      ],
      "metadata": {
        "colab": {
          "base_uri": "https://localhost:8080/"
        },
        "id": "vT39wjV2nnWV",
        "outputId": "0c0b5e86-165d-413b-aaf8-0cc5783c3697"
      },
      "execution_count": null,
      "outputs": [
        {
          "output_type": "stream",
          "name": "stdout",
          "text": [
            "1\n"
          ]
        }
      ]
    },
    {
      "cell_type": "code",
      "source": [
        "y=\"hola\"\n",
        "print(y)"
      ],
      "metadata": {
        "colab": {
          "base_uri": "https://localhost:8080/"
        },
        "id": "OmXMd2OeoL6O",
        "outputId": "094aa9b3-8535-4768-ac24-38a172e12100"
      },
      "execution_count": null,
      "outputs": [
        {
          "output_type": "stream",
          "name": "stdout",
          "text": [
            "hola\n"
          ]
        }
      ]
    },
    {
      "cell_type": "markdown",
      "source": [
        "Si queremos cambiar de entero a float vamos a hacer algo que se llama casting"
      ],
      "metadata": {
        "id": "zL_IhnUmrCmv"
      }
    },
    {
      "cell_type": "code",
      "source": [
        "type(int(5.5))"
      ],
      "metadata": {
        "colab": {
          "base_uri": "https://localhost:8080/"
        },
        "id": "HhfyWSPFoa_U",
        "outputId": "08b58f6b-e596-402c-b6c8-19864b3b8891"
      },
      "execution_count": null,
      "outputs": [
        {
          "output_type": "execute_result",
          "data": {
            "text/plain": [
              "int"
            ]
          },
          "metadata": {},
          "execution_count": 9
        }
      ]
    },
    {
      "cell_type": "markdown",
      "source": [
        "Para cambiar el tipo de un dato tambien puede ser con el nombre de la variable\n",
        "\n"
      ],
      "metadata": {
        "id": "zWKUw1vLrsLN"
      }
    },
    {
      "cell_type": "code",
      "source": [
        "numEntero=22\n",
        "numFlotante=2.3\n",
        "print(numEntero)\n",
        "print(numFlotante)\n",
        "\n",
        "print(int(numFlotante))\n",
        "\n",
        "print(float(numEntero))\n"
      ],
      "metadata": {
        "id": "k9KVIZVXsEU7"
      },
      "execution_count": null,
      "outputs": []
    },
    {
      "cell_type": "markdown",
      "source": [
        "Ejercicio: Pedir un numero enteo y un float al usuario"
      ],
      "metadata": {
        "id": "B85TY0grshev"
      }
    },
    {
      "cell_type": "code",
      "source": [
        "nEntero=input(\"Ingresa un numero entero: \")\n",
        "nFloat=input(\"Ingresa un numero flotante: \")"
      ],
      "metadata": {
        "colab": {
          "base_uri": "https://localhost:8080/"
        },
        "id": "fqn_Oo81shM1",
        "outputId": "5d7fc947-0761-4b74-fea0-d93f426ca797"
      },
      "execution_count": null,
      "outputs": [
        {
          "name": "stdout",
          "output_type": "stream",
          "text": [
            "Ingresa un numero entero: 2\n",
            "Ingresa un numero flotante: 2.7\n"
          ]
        }
      ]
    },
    {
      "cell_type": "code",
      "source": [
        "print(float(nEntero))"
      ],
      "metadata": {
        "colab": {
          "base_uri": "https://localhost:8080/"
        },
        "id": "ggXmcil_tQM6",
        "outputId": "101b1bef-5c06-4156-a29d-6a2ae382a2ca"
      },
      "execution_count": null,
      "outputs": [
        {
          "output_type": "stream",
          "name": "stdout",
          "text": [
            "2.0\n"
          ]
        }
      ]
    },
    {
      "cell_type": "code",
      "source": [
        "print(str(nFloat))"
      ],
      "metadata": {
        "colab": {
          "base_uri": "https://localhost:8080/"
        },
        "id": "KTR8Mm3ctbzY",
        "outputId": "516cb64c-b8db-4e38-95be-7d43d1212f28"
      },
      "execution_count": null,
      "outputs": [
        {
          "output_type": "stream",
          "name": "stdout",
          "text": [
            "2.7\n"
          ]
        }
      ]
    },
    {
      "cell_type": "code",
      "source": [
        "print(nFloat)"
      ],
      "metadata": {
        "colab": {
          "base_uri": "https://localhost:8080/"
        },
        "id": "r-ooHzmCwQFg",
        "outputId": "6632cd6c-0617-40ac-dc3e-246513b9562b"
      },
      "execution_count": null,
      "outputs": [
        {
          "output_type": "stream",
          "name": "stdout",
          "text": [
            "2.7\n"
          ]
        }
      ]
    },
    {
      "cell_type": "code",
      "source": [
        "nFloat=int(float(nFloat))\n",
        "print(nFloat)\n",
        "print(\"Flotante a entero: \"+str(nFloat))\n",
        "print(int(float(nFloat)))"
      ],
      "metadata": {
        "colab": {
          "base_uri": "https://localhost:8080/"
        },
        "id": "MRibxyArxMQx",
        "outputId": "29d37352-a5bb-4180-e07a-616db3bc8d06"
      },
      "execution_count": null,
      "outputs": [
        {
          "output_type": "stream",
          "name": "stdout",
          "text": [
            "2\n",
            "Flotante a entero: 2\n",
            "2\n"
          ]
        }
      ]
    },
    {
      "cell_type": "markdown",
      "source": [
        "cociente=10//3\n",
        "print(cociente)"
      ],
      "metadata": {
        "id": "GB4s5HRkpcnY"
      }
    },
    {
      "cell_type": "code",
      "source": [
        "cociente=10//3\n",
        "print(cociente)"
      ],
      "metadata": {
        "colab": {
          "base_uri": "https://localhost:8080/"
        },
        "id": "kQc5m7MRqRlz",
        "outputId": "caa15b90-87f4-40d4-8481-ffa8d928be7c"
      },
      "execution_count": null,
      "outputs": [
        {
          "output_type": "stream",
          "name": "stdout",
          "text": [
            "3\n"
          ]
        }
      ]
    },
    {
      "cell_type": "code",
      "source": [
        "modulo=10%3\n",
        "print(modulo)"
      ],
      "metadata": {
        "colab": {
          "base_uri": "https://localhost:8080/"
        },
        "id": "fsxT5_NCqWbG",
        "outputId": "9d4dfdbf-f7ee-4021-d11b-ebd235edd5d3"
      },
      "execution_count": null,
      "outputs": [
        {
          "output_type": "stream",
          "name": "stdout",
          "text": [
            "1\n"
          ]
        }
      ]
    },
    {
      "cell_type": "code",
      "source": [
        "potencia=5.0**3\n",
        "pot=pow(5,3)\n",
        "print(potencia)\n",
        "print(pot)"
      ],
      "metadata": {
        "colab": {
          "base_uri": "https://localhost:8080/"
        },
        "id": "hOerLgYSqeaa",
        "outputId": "3f03aaf5-b3a9-43ca-803e-e55d93bd049f"
      },
      "execution_count": null,
      "outputs": [
        {
          "output_type": "stream",
          "name": "stdout",
          "text": [
            "125.0\n",
            "125\n"
          ]
        }
      ]
    },
    {
      "cell_type": "markdown",
      "source": [
        "Pida año de nacimiento e imprima cuantos años tiene el ususario\n",
        "data.time.year, va a decir en que año esta"
      ],
      "metadata": {
        "id": "wA5lJENPqyhU"
      }
    },
    {
      "cell_type": "code",
      "source": [
        "from datetime import datetime\n",
        "nombre=input(\"Ingresa tu nombre: \")\n",
        "anio=int(input(\"Ingresa tu año de nacimiento: \"))\n",
        "a=datetime.now().year\n",
        "anios=a-anio\n",
        "print(\"Hola \" + nombre+ \" tu edad es de: \",anios)\n",
        "\n",
        "\n"
      ],
      "metadata": {
        "colab": {
          "base_uri": "https://localhost:8080/"
        },
        "id": "EB6LrHybqxWA",
        "outputId": "3030c342-e26b-4a97-d430-d6672d104038"
      },
      "execution_count": null,
      "outputs": [
        {
          "output_type": "stream",
          "name": "stdout",
          "text": [
            "Ingresa tu nombre: ilse\n",
            "Ingresa tu año de nacimiento: 2008\n",
            "Hola ilse tu edad es de:  15\n"
          ]
        }
      ]
    },
    {
      "cell_type": "markdown",
      "source": [
        "LISTAS\n",
        "para almacenar distintos tipos de datos\n",
        "variable=[valores]"
      ],
      "metadata": {
        "id": "i2SwHctYwKrY"
      }
    },
    {
      "cell_type": "code",
      "source": [
        "fam=[10,20,30,40]\n",
        "print(fam)"
      ],
      "metadata": {
        "colab": {
          "base_uri": "https://localhost:8080/"
        },
        "id": "6T3BAWEiwS9L",
        "outputId": "b5156b36-d6a8-40c6-86d1-8e1491c366aa"
      },
      "execution_count": null,
      "outputs": [
        {
          "output_type": "stream",
          "name": "stdout",
          "text": [
            "[10, 20, 30, 40]\n"
          ]
        }
      ]
    },
    {
      "cell_type": "code",
      "source": [
        "fam1=[['azul',20],['azul',21],['rojo',22]]\n",
        "print(fam1)"
      ],
      "metadata": {
        "colab": {
          "base_uri": "https://localhost:8080/"
        },
        "id": "TTwVK9_BwfFI",
        "outputId": "1b11ab49-b761-477e-a23e-1f738308ef1b"
      },
      "execution_count": null,
      "outputs": [
        {
          "output_type": "stream",
          "name": "stdout",
          "text": [
            "[['azul', 20], ['azul', 21], ['rojo', 22]]\n"
          ]
        }
      ]
    },
    {
      "cell_type": "code",
      "source": [
        "edades=['rojo',20,'negro',30,'cafe',12,'rosa',36]\n",
        "print(edades[5])\n",
        "print(edades[2:5])\n",
        "print(edades[:4])\n",
        "print(edades[5:])"
      ],
      "metadata": {
        "colab": {
          "base_uri": "https://localhost:8080/"
        },
        "id": "P_DWEVOiw_ni",
        "outputId": "2567b36f-ee5b-4d2b-c186-c00c17c7d1e7"
      },
      "execution_count": null,
      "outputs": [
        {
          "output_type": "stream",
          "name": "stdout",
          "text": [
            "12\n",
            "['negro', 30, 'cafe']\n",
            "['rojo', 20, 'negro', 30]\n",
            "[12, 'rosa', 36]\n"
          ]
        }
      ]
    },
    {
      "cell_type": "markdown",
      "source": [
        "Listas con concatenacion"
      ],
      "metadata": {
        "id": "Sb7o7JZ-1YOJ"
      }
    },
    {
      "cell_type": "code",
      "source": [
        "suma=edades[1]+edades[3]\n",
        "print(suma)\n",
        "\n",
        "print(\" Las edades de rojo y negro son: \",suma)"
      ],
      "metadata": {
        "colab": {
          "base_uri": "https://localhost:8080/"
        },
        "id": "lPN0g1Ul0Y6P",
        "outputId": "3f0e98a3-cde8-4d65-e5c3-1df61811833f"
      },
      "execution_count": null,
      "outputs": [
        {
          "output_type": "stream",
          "name": "stdout",
          "text": [
            "50\n",
            " Las edades de rojo y negro son:  50\n"
          ]
        }
      ]
    },
    {
      "cell_type": "markdown",
      "source": [
        "un programa que pida al usuario su nombre, su año de nacimiento y su número favorito. Luego, el programa debe imprimir una frase que incluya su nombre, su edad, su número favorito y el cuadrado de su número favorito."
      ],
      "metadata": {
        "id": "Kid4AwPs1-r7"
      }
    },
    {
      "cell_type": "code",
      "source": [],
      "metadata": {
        "id": "Y3KGuosexAm_"
      },
      "execution_count": null,
      "outputs": []
    }
  ]
}